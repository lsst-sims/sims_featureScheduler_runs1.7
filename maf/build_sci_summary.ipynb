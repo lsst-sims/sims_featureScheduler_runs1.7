{
 "cells": [
  {
   "cell_type": "markdown",
   "metadata": {},
   "source": [
    "Make a big pandas dataframe to hold all the metric values we're interested in, so then we can pass it around and plot it up any way we like\n",
    "\n",
    "I guess depth in each filter for each DDF?\n",
    "\n"
   ]
  },
  {
   "cell_type": "code",
   "execution_count": 1,
   "metadata": {},
   "outputs": [],
   "source": [
    "import glob\n",
    "import pandas as pd\n",
    "import sqlite3\n",
    "import numpy as np\n",
    "import matplotlib.pylab as plt\n",
    "import os\n",
    "%matplotlib inline"
   ]
  },
  {
   "cell_type": "code",
   "execution_count": 2,
   "metadata": {},
   "outputs": [],
   "source": [
    "# I just coppied them over from hyak and sym linked them to this directory for ease of use\n",
    "glance_dirs = glob.glob('./*_glance')\n",
    "sci_dirs = glob.glob('./*_sci')\n",
    "\n",
    "glance_dirs.sort()\n",
    "sci_dirs.sort()\n"
   ]
  },
  {
   "cell_type": "code",
   "execution_count": 3,
   "metadata": {},
   "outputs": [
    {
     "data": {
      "text/plain": [
       "['./baseline_nexp1_v1.7_10yrs_sci',\n",
       " './baseline_nexp2_v1.7_10yrs_sci',\n",
       " './cadence_drive_gl100_gcbv1.7_10yrs_sci',\n",
       " './cadence_drive_gl100v1.7_10yrs_sci',\n",
       " './cadence_drive_gl200_gcbv1.7_10yrs_sci',\n",
       " './cadence_drive_gl200v1.7_10yrs_sci',\n",
       " './cadence_drive_gl30_gcbv1.7_10yrs_sci',\n",
       " './cadence_drive_gl30v1.7_10yrs_sci',\n",
       " './ddf_dither0.00_v1.7_10yrs_sci',\n",
       " './ddf_dither0.05_v1.7_10yrs_sci',\n",
       " './ddf_dither0.10_v1.7_10yrs_sci',\n",
       " './ddf_dither0.30_v1.7_10yrs_sci',\n",
       " './ddf_dither0.70_v1.7_10yrs_sci',\n",
       " './ddf_dither1.00_v1.7_10yrs_sci',\n",
       " './ddf_dither1.50_v1.7_10yrs_sci',\n",
       " './ddf_dither2.00_v1.7_10yrs_sci',\n",
       " './euclid_dither1_v1.7_10yrs_sci',\n",
       " './euclid_dither2_v1.7_10yrs_sci',\n",
       " './euclid_dither3_v1.7_10yrs_sci',\n",
       " './euclid_dither4_v1.7_10yrs_sci',\n",
       " './euclid_dither5_v1.7_10yrs_sci',\n",
       " './footprint_0_v1.710yrs_sci',\n",
       " './footprint_1_v1.710yrs_sci',\n",
       " './footprint_2_v1.710yrs_sci',\n",
       " './footprint_3_v1.710yrs_sci',\n",
       " './footprint_4_v1.710yrs_sci',\n",
       " './footprint_5_v1.710yrs_sci',\n",
       " './footprint_6_v1.710yrs_sci',\n",
       " './footprint_7_v1.710yrs_sci',\n",
       " './footprint_8_v1.710yrs_sci',\n",
       " './pair_times_11_v1.7_10yrs_sci',\n",
       " './pair_times_22_v1.7_10yrs_sci',\n",
       " './pair_times_33_v1.7_10yrs_sci',\n",
       " './pair_times_44_v1.7_10yrs_sci',\n",
       " './pair_times_55_v1.7_10yrs_sci',\n",
       " './rolling_nm_scale0.2_nslice2_v1.7_10yrs_sci',\n",
       " './rolling_nm_scale0.2_nslice3_v1.7_10yrs_sci',\n",
       " './rolling_nm_scale0.4_nslice2_v1.7_10yrs_sci',\n",
       " './rolling_nm_scale0.4_nslice3_v1.7_10yrs_sci',\n",
       " './rolling_nm_scale0.6_nslice2_v1.7_10yrs_sci',\n",
       " './rolling_nm_scale0.6_nslice3_v1.7_10yrs_sci',\n",
       " './rolling_nm_scale0.8_nslice2_v1.7_10yrs_sci',\n",
       " './rolling_nm_scale0.8_nslice3_v1.7_10yrs_sci',\n",
       " './rolling_nm_scale0.9_nslice2_v1.7_10yrs_sci',\n",
       " './rolling_nm_scale0.9_nslice3_v1.7_10yrs_sci',\n",
       " './rolling_nm_scale1.0_nslice2_v1.7_10yrs_sci',\n",
       " './rolling_nm_scale1.0_nslice3_v1.7_10yrs_sci',\n",
       " './rolling_scale0.2_nslice2_v1.7_10yrs_sci',\n",
       " './rolling_scale0.2_nslice3_v1.7_10yrs_sci',\n",
       " './rolling_scale0.4_nslice2_v1.7_10yrs_sci',\n",
       " './rolling_scale0.4_nslice3_v1.7_10yrs_sci',\n",
       " './rolling_scale0.6_nslice2_v1.7_10yrs_sci',\n",
       " './rolling_scale0.6_nslice3_v1.7_10yrs_sci',\n",
       " './rolling_scale0.8_nslice2_v1.7_10yrs_sci',\n",
       " './rolling_scale0.8_nslice3_v1.7_10yrs_sci',\n",
       " './rolling_scale0.9_nslice2_v1.7_10yrs_sci',\n",
       " './rolling_scale0.9_nslice3_v1.7_10yrs_sci',\n",
       " './rolling_scale1.0_nslice2_v1.7_10yrs_sci',\n",
       " './rolling_scale1.0_nslice3_v1.7_10yrs_sci',\n",
       " './twi_neo_pattern1_v1.7_10yrs_sci',\n",
       " './twi_neo_pattern2_v1.7_10yrs_sci',\n",
       " './twi_neo_pattern3_v1.7_10yrs_sci',\n",
       " './twi_neo_pattern4_v1.7_10yrs_sci',\n",
       " './twi_neo_pattern5_v1.7_10yrs_sci',\n",
       " './twi_neo_pattern6_v1.7_10yrs_sci',\n",
       " './twi_neo_pattern7_v1.7_10yrs_sci',\n",
       " './twi_pairs_mixed_repeat_v1.7_10yrs_sci',\n",
       " './twi_pairs_mixed_v1.7_10yrs_sci',\n",
       " './twi_pairs_repeat_v1.7_10yrs_sci',\n",
       " './twi_pairs_v1.7_10yrs_sci',\n",
       " './u_long_ms_30_v1.7_10yrs_sci',\n",
       " './u_long_ms_40_v1.7_10yrs_sci',\n",
       " './u_long_ms_50_v1.7_10yrs_sci',\n",
       " './u_long_ms_60_v1.7_10yrs_sci']"
      ]
     },
     "execution_count": 3,
     "metadata": {},
     "output_type": "execute_result"
    }
   ],
   "source": [
    "sci_dirs\n"
   ]
  },
  {
   "cell_type": "code",
   "execution_count": 4,
   "metadata": {},
   "outputs": [
    {
     "data": {
      "text/plain": [
       "['./baseline_nexp1_v1.7_10yrs_glance',\n",
       " './baseline_nexp2_v1.7_10yrs_glance',\n",
       " './cadence_drive_gl100_gcbv1.7_10yrs_glance',\n",
       " './cadence_drive_gl100v1.7_10yrs_glance',\n",
       " './cadence_drive_gl200_gcbv1.7_10yrs_glance',\n",
       " './cadence_drive_gl200v1.7_10yrs_glance',\n",
       " './cadence_drive_gl30_gcbv1.7_10yrs_glance',\n",
       " './cadence_drive_gl30v1.7_10yrs_glance',\n",
       " './ddf_dither0.00_v1.7_10yrs_glance',\n",
       " './ddf_dither0.05_v1.7_10yrs_glance',\n",
       " './ddf_dither0.10_v1.7_10yrs_glance',\n",
       " './ddf_dither0.30_v1.7_10yrs_glance',\n",
       " './ddf_dither0.70_v1.7_10yrs_glance',\n",
       " './ddf_dither1.00_v1.7_10yrs_glance',\n",
       " './ddf_dither1.50_v1.7_10yrs_glance',\n",
       " './ddf_dither2.00_v1.7_10yrs_glance',\n",
       " './euclid_dither1_v1.7_10yrs_glance',\n",
       " './euclid_dither2_v1.7_10yrs_glance',\n",
       " './euclid_dither3_v1.7_10yrs_glance',\n",
       " './euclid_dither4_v1.7_10yrs_glance',\n",
       " './euclid_dither5_v1.7_10yrs_glance',\n",
       " './footprint_0_v1.710yrs_glance',\n",
       " './footprint_1_v1.710yrs_glance',\n",
       " './footprint_2_v1.710yrs_glance',\n",
       " './footprint_3_v1.710yrs_glance',\n",
       " './footprint_4_v1.710yrs_glance',\n",
       " './footprint_5_v1.710yrs_glance',\n",
       " './footprint_6_v1.710yrs_glance',\n",
       " './footprint_7_v1.710yrs_glance',\n",
       " './footprint_8_v1.710yrs_glance',\n",
       " './pair_times_11_v1.7_10yrs_glance',\n",
       " './pair_times_22_v1.7_10yrs_glance',\n",
       " './pair_times_33_v1.7_10yrs_glance',\n",
       " './pair_times_44_v1.7_10yrs_glance',\n",
       " './pair_times_55_v1.7_10yrs_glance',\n",
       " './rolling_nm_scale0.2_nslice2_v1.7_10yrs_glance',\n",
       " './rolling_nm_scale0.2_nslice3_v1.7_10yrs_glance',\n",
       " './rolling_nm_scale0.4_nslice2_v1.7_10yrs_glance',\n",
       " './rolling_nm_scale0.4_nslice3_v1.7_10yrs_glance',\n",
       " './rolling_nm_scale0.6_nslice2_v1.7_10yrs_glance',\n",
       " './rolling_nm_scale0.6_nslice3_v1.7_10yrs_glance',\n",
       " './rolling_nm_scale0.8_nslice2_v1.7_10yrs_glance',\n",
       " './rolling_nm_scale0.8_nslice3_v1.7_10yrs_glance',\n",
       " './rolling_nm_scale0.9_nslice2_v1.7_10yrs_glance',\n",
       " './rolling_nm_scale0.9_nslice3_v1.7_10yrs_glance',\n",
       " './rolling_nm_scale1.0_nslice2_v1.7_10yrs_glance',\n",
       " './rolling_nm_scale1.0_nslice3_v1.7_10yrs_glance',\n",
       " './rolling_scale0.2_nslice2_v1.7_10yrs_glance',\n",
       " './rolling_scale0.2_nslice3_v1.7_10yrs_glance',\n",
       " './rolling_scale0.4_nslice2_v1.7_10yrs_glance',\n",
       " './rolling_scale0.4_nslice3_v1.7_10yrs_glance',\n",
       " './rolling_scale0.6_nslice2_v1.7_10yrs_glance',\n",
       " './rolling_scale0.6_nslice3_v1.7_10yrs_glance',\n",
       " './rolling_scale0.8_nslice2_v1.7_10yrs_glance',\n",
       " './rolling_scale0.8_nslice3_v1.7_10yrs_glance',\n",
       " './rolling_scale0.9_nslice2_v1.7_10yrs_glance',\n",
       " './rolling_scale0.9_nslice3_v1.7_10yrs_glance',\n",
       " './rolling_scale1.0_nslice2_v1.7_10yrs_glance',\n",
       " './rolling_scale1.0_nslice3_v1.7_10yrs_glance',\n",
       " './twi_neo_pattern1_v1.7_10yrs_glance',\n",
       " './twi_neo_pattern2_v1.7_10yrs_glance',\n",
       " './twi_neo_pattern3_v1.7_10yrs_glance',\n",
       " './twi_neo_pattern4_v1.7_10yrs_glance',\n",
       " './twi_neo_pattern5_v1.7_10yrs_glance',\n",
       " './twi_neo_pattern6_v1.7_10yrs_glance',\n",
       " './twi_neo_pattern7_v1.7_10yrs_glance',\n",
       " './twi_pairs_mixed_repeat_v1.7_10yrs_glance',\n",
       " './twi_pairs_mixed_v1.7_10yrs_glance',\n",
       " './twi_pairs_repeat_v1.7_10yrs_glance',\n",
       " './twi_pairs_v1.7_10yrs_glance',\n",
       " './u_long_ms_30_v1.7_10yrs_glance',\n",
       " './u_long_ms_40_v1.7_10yrs_glance',\n",
       " './u_long_ms_50_v1.7_10yrs_glance',\n",
       " './u_long_ms_60_v1.7_10yrs_glance']"
      ]
     },
     "execution_count": 4,
     "metadata": {},
     "output_type": "execute_result"
    }
   ],
   "source": [
    "glance_dirs"
   ]
  },
  {
   "cell_type": "code",
   "execution_count": 5,
   "metadata": {},
   "outputs": [],
   "source": [
    "filenames = [name.replace('./', '').replace('_glance', '') for name in glance_dirs]"
   ]
  },
  {
   "cell_type": "code",
   "execution_count": null,
   "metadata": {},
   "outputs": [],
   "source": []
  },
  {
   "cell_type": "code",
   "execution_count": 6,
   "metadata": {},
   "outputs": [],
   "source": [
    "runNames =  [name[2:].replace('_v1.7_10yrs_glance','').replace('v1.7_10yrs_glance','').replace('v1.7_10yrs_glance','') for name in glance_dirs] \n",
    "versions = ['1.7']*len(glance_dirs) "
   ]
  },
  {
   "cell_type": "code",
   "execution_count": 7,
   "metadata": {},
   "outputs": [
    {
     "data": {
      "text/plain": [
       "['baseline_nexp1',\n",
       " 'baseline_nexp2',\n",
       " 'cadence_drive_gl100_gcb',\n",
       " 'cadence_drive_gl100',\n",
       " 'cadence_drive_gl200_gcb',\n",
       " 'cadence_drive_gl200',\n",
       " 'cadence_drive_gl30_gcb',\n",
       " 'cadence_drive_gl30',\n",
       " 'ddf_dither0.00',\n",
       " 'ddf_dither0.05',\n",
       " 'ddf_dither0.10',\n",
       " 'ddf_dither0.30',\n",
       " 'ddf_dither0.70',\n",
       " 'ddf_dither1.00',\n",
       " 'ddf_dither1.50',\n",
       " 'ddf_dither2.00',\n",
       " 'euclid_dither1',\n",
       " 'euclid_dither2',\n",
       " 'euclid_dither3',\n",
       " 'euclid_dither4',\n",
       " 'euclid_dither5',\n",
       " 'footprint_0_v1.710yrs_glance',\n",
       " 'footprint_1_v1.710yrs_glance',\n",
       " 'footprint_2_v1.710yrs_glance',\n",
       " 'footprint_3_v1.710yrs_glance',\n",
       " 'footprint_4_v1.710yrs_glance',\n",
       " 'footprint_5_v1.710yrs_glance',\n",
       " 'footprint_6_v1.710yrs_glance',\n",
       " 'footprint_7_v1.710yrs_glance',\n",
       " 'footprint_8_v1.710yrs_glance',\n",
       " 'pair_times_11',\n",
       " 'pair_times_22',\n",
       " 'pair_times_33',\n",
       " 'pair_times_44',\n",
       " 'pair_times_55',\n",
       " 'rolling_nm_scale0.2_nslice2',\n",
       " 'rolling_nm_scale0.2_nslice3',\n",
       " 'rolling_nm_scale0.4_nslice2',\n",
       " 'rolling_nm_scale0.4_nslice3',\n",
       " 'rolling_nm_scale0.6_nslice2',\n",
       " 'rolling_nm_scale0.6_nslice3',\n",
       " 'rolling_nm_scale0.8_nslice2',\n",
       " 'rolling_nm_scale0.8_nslice3',\n",
       " 'rolling_nm_scale0.9_nslice2',\n",
       " 'rolling_nm_scale0.9_nslice3',\n",
       " 'rolling_nm_scale1.0_nslice2',\n",
       " 'rolling_nm_scale1.0_nslice3',\n",
       " 'rolling_scale0.2_nslice2',\n",
       " 'rolling_scale0.2_nslice3',\n",
       " 'rolling_scale0.4_nslice2',\n",
       " 'rolling_scale0.4_nslice3',\n",
       " 'rolling_scale0.6_nslice2',\n",
       " 'rolling_scale0.6_nslice3',\n",
       " 'rolling_scale0.8_nslice2',\n",
       " 'rolling_scale0.8_nslice3',\n",
       " 'rolling_scale0.9_nslice2',\n",
       " 'rolling_scale0.9_nslice3',\n",
       " 'rolling_scale1.0_nslice2',\n",
       " 'rolling_scale1.0_nslice3',\n",
       " 'twi_neo_pattern1',\n",
       " 'twi_neo_pattern2',\n",
       " 'twi_neo_pattern3',\n",
       " 'twi_neo_pattern4',\n",
       " 'twi_neo_pattern5',\n",
       " 'twi_neo_pattern6',\n",
       " 'twi_neo_pattern7',\n",
       " 'twi_pairs_mixed_repeat',\n",
       " 'twi_pairs_mixed',\n",
       " 'twi_pairs_repeat',\n",
       " 'twi_pairs',\n",
       " 'u_long_ms_30',\n",
       " 'u_long_ms_40',\n",
       " 'u_long_ms_50',\n",
       " 'u_long_ms_60']"
      ]
     },
     "execution_count": 7,
     "metadata": {},
     "output_type": "execute_result"
    }
   ],
   "source": [
    "runNames"
   ]
  },
  {
   "cell_type": "code",
   "execution_count": 8,
   "metadata": {},
   "outputs": [],
   "source": [
    "# Set up the dataframe\n",
    "df = pd.DataFrame(np.array([runNames, versions]).T, columns=['runName', 'version'])"
   ]
  },
  {
   "cell_type": "code",
   "execution_count": 9,
   "metadata": {},
   "outputs": [],
   "source": [
    "# List of tupes with (metricName, summaryName) that we want to pull from glance dirs\n",
    "mnamesname =[('parallax', 'best18k'),\n",
    "            ('properMotion', 'best18k'),\n",
    "            ('fO', 'fONv MedianNvis'),\n",
    "            ('fO', 'fOArea')]"
   ]
  },
  {
   "cell_type": "code",
   "execution_count": 10,
   "metadata": {},
   "outputs": [],
   "source": [
    "for names in mnamesname:\n",
    "    column_vals = []\n",
    "    sql = 'select summaryValue from summarystats where metricId = (select metricId from metrics where metricName = \"%s\") and summaryName= \"%s\";' % (names[0], names[1])\n",
    "    for directory in glance_dirs:\n",
    "        conn = sqlite3.connect(directory+'/resultsDb_sqlite.db')\n",
    "        result = pd.read_sql(sql, conn).values.ravel()\n",
    "        if np.size(result) > 1:\n",
    "            ValueError\n",
    "        else:\n",
    "            column_vals.append(np.max(result))\n",
    "        conn.close()\n",
    "    df[names[0]+'_'+names[1]] = column_vals"
   ]
  },
  {
   "cell_type": "code",
   "execution_count": 11,
   "metadata": {},
   "outputs": [],
   "source": [
    "# Add the median coadded depths in each filter\n",
    "for filtername in 'ugrizy':\n",
    "    column_vals = []\n",
    "    sql = 'select summaryValue from summarystats where metricId = (select metricId from metrics where metricName = \"CoaddM5\" and metricMetadata=\" %s\") and summaryName= \"Median\";' % (filtername)\n",
    "    for directory in glance_dirs:\n",
    "        conn = sqlite3.connect(directory+'/resultsDb_sqlite.db')\n",
    "        result = pd.read_sql(sql, conn).values.ravel()\n",
    "        if np.size(result) > 1:\n",
    "            ValueError\n",
    "        else:\n",
    "            column_vals.append(np.max(result))\n",
    "        conn.close()\n",
    "    df['median_coadd_%s' % filtername] = column_vals\n"
   ]
  },
  {
   "cell_type": "code",
   "execution_count": 12,
   "metadata": {},
   "outputs": [],
   "source": [
    "# List of tupes with (metricName, summaryName) that we want to pull from science dirs\n",
    "mnamesname =[('SNIa_PrePeak', 'Mean'),\n",
    "            ('Fast Microlensing', 'Mean'),\n",
    "            ('Slow Microlensing', 'Mean'),\n",
    "            ('KN_PrePeak', 'Mean'),\n",
    "            ('GalaxyCountsMetric_extended', 'N Galaxies (all)'),\n",
    "            ('TDEsPopMetric__some_color', 'Mean'),\n",
    "             ('TDEsPopMetric__some_color_pu', 'Mean'), \n",
    "            ('WeakLensingNvisits fiveSigmaDepth, visitExposureTime', 'Median')]"
   ]
  },
  {
   "cell_type": "code",
   "execution_count": 13,
   "metadata": {},
   "outputs": [],
   "source": [
    "for names in mnamesname:\n",
    "    column_vals = []\n",
    "    sql = 'select summaryValue from summarystats where metricId = (select metricId from metrics where metricName = \"%s\") and summaryName= \"%s\";' % (names[0], names[1])\n",
    "    for directory in sci_dirs:\n",
    "        conn = sqlite3.connect(directory+'/resultsDb_sqlite.db')\n",
    "        result = pd.read_sql(sql, conn).values.ravel()\n",
    "        if np.size(result) > 1:\n",
    "            ValueError\n",
    "        else:\n",
    "            column_vals.append(np.max(result))\n",
    "        conn.close()\n",
    "    df[names[0]+'_'+names[1]] = column_vals"
   ]
  },
  {
   "cell_type": "code",
   "execution_count": null,
   "metadata": {},
   "outputs": [],
   "source": []
  },
  {
   "cell_type": "code",
   "execution_count": 14,
   "metadata": {},
   "outputs": [],
   "source": [
    "# things that need some metadata\n",
    "mnamesname =[('Nstars_no_crowding', 'Total N Stars, no crowding')]\n",
    "\n",
    "for names in mnamesname:\n",
    "    column_vals = []\n",
    "    sql = 'select summaryValue from summarystats where metricId = (select metricId from metrics where metricName = \"%s\" and metricMetadata=\" i\") and summaryName= \"%s\";' % (names[0], names[1])\n",
    "    for directory in sci_dirs:\n",
    "        conn = sqlite3.connect(directory+'/resultsDb_sqlite.db')\n",
    "        result = pd.read_sql(sql, conn).values.ravel()\n",
    "        if np.size(result) > 1:\n",
    "            ValueError\n",
    "        else:\n",
    "            column_vals.append(np.max(result))\n",
    "        conn.close()\n",
    "    df[names[0]+'_'+names[1]] = column_vals\n",
    "\n",
    "    \n",
    "mnamesname =[('ExgalM5_with_cuts', '3x2ptFoM')]\n",
    "\n",
    "for names in mnamesname:\n",
    "    column_vals = []\n",
    "    sql = 'select summaryValue from summarystats where metricId = (select metricId from metrics where metricName = \"%s\" and metricMetadata=\"i band non-DD year 10\") and summaryName= \"%s\";' % (names[0], names[1])\n",
    "    for directory in sci_dirs:\n",
    "        conn = sqlite3.connect(directory+'/resultsDb_sqlite.db')\n",
    "        result = pd.read_sql(sql, conn).values.ravel()\n",
    "        if np.size(result) > 1:\n",
    "            ValueError\n",
    "        else:\n",
    "            try:\n",
    "                column_vals.append(np.max(result))\n",
    "            except:\n",
    "                import pdb ;pdb.set_trace()\n",
    "        conn.close()\n",
    "    df[names[0]+'_'+names[1]] = column_vals\n"
   ]
  },
  {
   "cell_type": "code",
   "execution_count": 15,
   "metadata": {},
   "outputs": [
    {
     "data": {
      "text/plain": [
       "420.31403703312606"
      ]
     },
     "execution_count": 15,
     "metadata": {},
     "output_type": "execute_result"
    }
   ],
   "source": [
    "np.max(result)"
   ]
  },
  {
   "cell_type": "code",
   "execution_count": 16,
   "metadata": {},
   "outputs": [],
   "source": [
    "# Pull the DDF depths from everywhere. \n",
    "filters = 'ugrizy'\n",
    "ddf_names = ['DD:ELAISS1', 'DD:XMM-LSS', 'DD:ECDFS', 'DD:COSMOS', 'DD:EDFS', 'DD:EDFSa', 'DD:EDFSb']\n",
    "\n",
    "for filtername in filters:\n",
    "    for ddf_name in ddf_names:\n",
    "        column_vals = []\n",
    "        sql = 'select summaryValue from summarystats where summaryName=\"Median depth %s, %s\"' % (ddf_name, filtername)\n",
    "        for directory in sci_dirs:\n",
    "            conn = sqlite3.connect(directory+'/resultsDb_sqlite.db')\n",
    "            result = pd.read_sql(sql, conn).values.ravel()\n",
    "            if np.size(result) > 1:\n",
    "                ValueError\n",
    "            else:\n",
    "                column_vals.append(np.max(result))\n",
    "            conn.close()\n",
    "        df[ddf_name+','+filtername] = column_vals"
   ]
  },
  {
   "cell_type": "code",
   "execution_count": null,
   "metadata": {},
   "outputs": [],
   "source": []
  },
  {
   "cell_type": "code",
   "execution_count": 18,
   "metadata": {},
   "outputs": [],
   "source": [
    "# Now to pull things from the solar system results\n",
    "\n",
    "# here's what we used last time:\n",
    "#'3 pairs in 15 nights detection loss NEO H=16.0',\n",
    "#        '3 pairs in 30 nights detection loss NEO H=22.0',\n",
    "#       '3 pairs in 15 nights detection loss TNO H=4.0'\n",
    "\n",
    "faint_neo = []\n",
    "bright_neo = []\n",
    "tno = []\n",
    "\n",
    "for name in filenames:\n",
    "    conn = sqlite3.connect('%s_granvik_5k/resultsDb_sqlite.db' % name)\n",
    "    sql = 'select summaryValue from summarystats where summaryName=\"DifferentialCompleteness H = 16.000000\" and '+\\\n",
    "        'metricId = (select metricId from metrics where metricName =\"Discovery_N_Chances\" and metricMetadata=\"NEO 3 pairs in 15 nights detection loss\")'\n",
    "    val = np.max(pd.read_sql(sql, conn).values.ravel())\n",
    "    bright_neo.append(val)\n",
    "    \n",
    "    \n",
    "    sql = 'select summaryValue from summarystats where summaryName=\"DifferentialCompleteness H = 22.000000\" and '+\\\n",
    "        'metricId = (select metricId from metrics where metricName =\"Discovery_N_Chances\" and metricMetadata=\"NEO 3 pairs in 15 nights detection loss\")'\n",
    "\n",
    "    val = np.max(pd.read_sql(sql, conn).values.ravel())\n",
    "    faint_neo.append(val)\n",
    "    \n",
    "    conn.close()\n",
    "    conn = sqlite3.connect('%s_l7_5k/resultsDb_sqlite.db' % name)\n",
    "    \n",
    "    sql = 'select summaryValue from summarystats where summaryName=\"DifferentialCompleteness H = 6.000000\" and '+\\\n",
    "          'metricId = (select metricId from metrics where metricName =\"Discovery_N_Chances\" and metricMetadata=\"TNO 3 pairs in 15 nights detection loss\")'\n",
    "\n",
    "    val = np.max(pd.read_sql(sql, conn).values.ravel())\n",
    "    tno.append(val)\n",
    "    conn.close()\n",
    "    \n",
    "df['NEO bright'] = bright_neo\n",
    "df['NEO faint'] = faint_neo \n",
    "df['TNO'] = tno"
   ]
  },
  {
   "cell_type": "code",
   "execution_count": null,
   "metadata": {},
   "outputs": [],
   "source": []
  },
  {
   "cell_type": "code",
   "execution_count": 19,
   "metadata": {},
   "outputs": [
    {
     "data": {
      "text/plain": [
       "0     0.4138\n",
       "1     0.3902\n",
       "2     0.3846\n",
       "3     0.3884\n",
       "4     0.3788\n",
       "       ...  \n",
       "69    0.4018\n",
       "70    0.3944\n",
       "71    0.3902\n",
       "72    0.3800\n",
       "73    0.3820\n",
       "Name: NEO faint, Length: 74, dtype: float64"
      ]
     },
     "execution_count": 19,
     "metadata": {},
     "output_type": "execute_result"
    }
   ],
   "source": [
    "df['NEO faint']"
   ]
  },
  {
   "cell_type": "code",
   "execution_count": 20,
   "metadata": {},
   "outputs": [
    {
     "data": {
      "text/plain": [
       "0     0.9170\n",
       "1     0.9110\n",
       "2     0.9092\n",
       "3     0.9086\n",
       "4     0.9076\n",
       "       ...  \n",
       "69    0.9172\n",
       "70    0.9130\n",
       "71    0.9136\n",
       "72    0.9128\n",
       "73    0.9124\n",
       "Name: NEO bright, Length: 74, dtype: float64"
      ]
     },
     "execution_count": 20,
     "metadata": {},
     "output_type": "execute_result"
    }
   ],
   "source": [
    "df['NEO bright']"
   ]
  },
  {
   "cell_type": "code",
   "execution_count": null,
   "metadata": {},
   "outputs": [],
   "source": []
  },
  {
   "cell_type": "code",
   "execution_count": 21,
   "metadata": {},
   "outputs": [
    {
     "data": {
      "text/plain": [
       "'baseline_nexp1'"
      ]
     },
     "execution_count": 21,
     "metadata": {},
     "output_type": "execute_result"
    }
   ],
   "source": [
    "runNames[0]"
   ]
  },
  {
   "cell_type": "code",
   "execution_count": null,
   "metadata": {},
   "outputs": [],
   "source": []
  },
  {
   "cell_type": "code",
   "execution_count": null,
   "metadata": {},
   "outputs": [],
   "source": []
  },
  {
   "cell_type": "code",
   "execution_count": null,
   "metadata": {},
   "outputs": [],
   "source": []
  },
  {
   "cell_type": "code",
   "execution_count": 22,
   "metadata": {},
   "outputs": [
    {
     "data": {
      "text/plain": [
       "[<matplotlib.lines.Line2D at 0x7fd4ae3e9dd0>]"
      ]
     },
     "execution_count": 22,
     "metadata": {},
     "output_type": "execute_result"
    },
    {
     "data": {
      "image/png": "[encoded data removed]",
      "text/plain": [
       "<Figure size 432x288 with 1 Axes>"
      ]
     },
     "metadata": {
      "needs_background": "light"
     },
     "output_type": "display_data"
    }
   ],
   "source": [
    "plt.plot(df['median_coadd_g'])"
   ]
  },
  {
   "cell_type": "code",
   "execution_count": null,
   "metadata": {},
   "outputs": [],
   "source": []
  },
  {
   "cell_type": "code",
   "execution_count": 23,
   "metadata": {},
   "outputs": [
    {
     "data": {
      "text/plain": [
       "Index(['runName', 'version', 'parallax_best18k', 'properMotion_best18k',\n",
       "       'fO_fONv MedianNvis', 'fO_fOArea', 'median_coadd_u', 'median_coadd_g',\n",
       "       'median_coadd_r', 'median_coadd_i', 'median_coadd_z', 'median_coadd_y',\n",
       "       'SNIa_PrePeak_Mean', 'Fast Microlensing_Mean', 'Slow Microlensing_Mean',\n",
       "       'KN_PrePeak_Mean', 'GalaxyCountsMetric_extended_N Galaxies (all)',\n",
       "       'TDEsPopMetric__some_color_Mean', 'TDEsPopMetric__some_color_pu_Mean',\n",
       "       'WeakLensingNvisits fiveSigmaDepth, visitExposureTime_Median',\n",
       "       'Nstars_no_crowding_Total N Stars, no crowding',\n",
       "       'ExgalM5_with_cuts_3x2ptFoM', 'DD:ELAISS1,u', 'DD:XMM-LSS,u',\n",
       "       'DD:ECDFS,u', 'DD:COSMOS,u', 'DD:EDFS,u', 'DD:EDFSa,u', 'DD:EDFSb,u',\n",
       "       'DD:ELAISS1,g', 'DD:XMM-LSS,g', 'DD:ECDFS,g', 'DD:COSMOS,g',\n",
       "       'DD:EDFS,g', 'DD:EDFSa,g', 'DD:EDFSb,g', 'DD:ELAISS1,r', 'DD:XMM-LSS,r',\n",
       "       'DD:ECDFS,r', 'DD:COSMOS,r', 'DD:EDFS,r', 'DD:EDFSa,r', 'DD:EDFSb,r',\n",
       "       'DD:ELAISS1,i', 'DD:XMM-LSS,i', 'DD:ECDFS,i', 'DD:COSMOS,i',\n",
       "       'DD:EDFS,i', 'DD:EDFSa,i', 'DD:EDFSb,i', 'DD:ELAISS1,z', 'DD:XMM-LSS,z',\n",
       "       'DD:ECDFS,z', 'DD:COSMOS,z', 'DD:EDFS,z', 'DD:EDFSa,z', 'DD:EDFSb,z',\n",
       "       'DD:ELAISS1,y', 'DD:XMM-LSS,y', 'DD:ECDFS,y', 'DD:COSMOS,y',\n",
       "       'DD:EDFS,y', 'DD:EDFSa,y', 'DD:EDFSb,y', 'NEO bright', 'NEO faint',\n",
       "       'TNO'],\n",
       "      dtype='object')"
      ]
     },
     "execution_count": 23,
     "metadata": {},
     "output_type": "execute_result"
    }
   ],
   "source": [
    "df.columns"
   ]
  },
  {
   "cell_type": "code",
   "execution_count": 24,
   "metadata": {},
   "outputs": [],
   "source": [
    "# pickle would be much smaller, but I guess can zip after if we want to\n",
    "df.to_hdf('combined_maf_dataframe.hdf', 'maf')\n",
    "# restore with:\n",
    "# df = pd.read_hdf('combined_maf_dataframe.hdf', 'maf')"
   ]
  },
  {
   "cell_type": "code",
   "execution_count": null,
   "metadata": {},
   "outputs": [],
   "source": []
  },
  {
   "cell_type": "code",
   "execution_count": null,
   "metadata": {},
   "outputs": [],
   "source": []
  },
  {
   "cell_type": "code",
   "execution_count": null,
   "metadata": {},
   "outputs": [],
   "source": []
  },
  {
   "cell_type": "code",
   "execution_count": null,
   "metadata": {},
   "outputs": [],
   "source": []
  },
  {
   "cell_type": "code",
   "execution_count": null,
   "metadata": {},
   "outputs": [],
   "source": []
  },
  {
   "cell_type": "code",
   "execution_count": null,
   "metadata": {},
   "outputs": [],
   "source": []
  }
 ],
 "metadata": {
  "kernelspec": {
   "display_name": "Python 3",
   "language": "python",
   "name": "python3"
  },
  "language_info": {
   "codemirror_mode": {
    "name": "ipython",
    "version": 3
   },
   "file_extension": ".py",
   "mimetype": "text/x-python",
   "name": "python",
   "nbconvert_exporter": "python",
   "pygments_lexer": "ipython3",
   "version": "3.7.8"
  }
 },
 "nbformat": 4,
 "nbformat_minor": 2
}
