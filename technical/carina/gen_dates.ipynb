{
 "cells": [
  {
   "cell_type": "code",
   "execution_count": 1,
   "id": "union-ability",
   "metadata": {},
   "outputs": [],
   "source": [
    "import numpy as np\n",
    "import pandas as pd\n",
    "import matplotlib.pylab as plt\n",
    "%matplotlib inline\n",
    "\n",
    "from carina import pick_times"
   ]
  },
  {
   "cell_type": "code",
   "execution_count": 2,
   "id": "determined-sugar",
   "metadata": {},
   "outputs": [],
   "source": [
    "dtypes = {'HJD': float, 'filter': str}\n",
    "car = pd.read_csv('g-r-i-u-band-sampling.dat', comment='#', header=None, sep=' ', names=['HJD', 'filter'])"
   ]
  },
  {
   "cell_type": "code",
   "execution_count": 3,
   "id": "amber-mercy",
   "metadata": {},
   "outputs": [
    {
     "data": {
      "text/html": [
       "<div>\n",
       "<style scoped>\n",
       "    .dataframe tbody tr th:only-of-type {\n",
       "        vertical-align: middle;\n",
       "    }\n",
       "\n",
       "    .dataframe tbody tr th {\n",
       "        vertical-align: top;\n",
       "    }\n",
       "\n",
       "    .dataframe thead th {\n",
       "        text-align: right;\n",
       "    }\n",
       "</style>\n",
       "<table border=\"1\" class=\"dataframe\">\n",
       "  <thead>\n",
       "    <tr style=\"text-align: right;\">\n",
       "      <th></th>\n",
       "      <th>HJD</th>\n",
       "      <th>filter</th>\n",
       "    </tr>\n",
       "  </thead>\n",
       "  <tbody>\n",
       "    <tr>\n",
       "      <th>0</th>\n",
       "      <td>0.000</td>\n",
       "      <td>g</td>\n",
       "    </tr>\n",
       "    <tr>\n",
       "      <th>147</th>\n",
       "      <td>0.001</td>\n",
       "      <td>r</td>\n",
       "    </tr>\n",
       "    <tr>\n",
       "      <th>294</th>\n",
       "      <td>0.002</td>\n",
       "      <td>i</td>\n",
       "    </tr>\n",
       "    <tr>\n",
       "      <th>441</th>\n",
       "      <td>0.003</td>\n",
       "      <td>u</td>\n",
       "    </tr>\n",
       "    <tr>\n",
       "      <th>1</th>\n",
       "      <td>0.021</td>\n",
       "      <td>g</td>\n",
       "    </tr>\n",
       "    <tr>\n",
       "      <th>...</th>\n",
       "      <td>...</td>\n",
       "      <td>...</td>\n",
       "    </tr>\n",
       "    <tr>\n",
       "      <th>586</th>\n",
       "      <td>6.402</td>\n",
       "      <td>u</td>\n",
       "    </tr>\n",
       "    <tr>\n",
       "      <th>146</th>\n",
       "      <td>6.420</td>\n",
       "      <td>g</td>\n",
       "    </tr>\n",
       "    <tr>\n",
       "      <th>293</th>\n",
       "      <td>6.421</td>\n",
       "      <td>r</td>\n",
       "    </tr>\n",
       "    <tr>\n",
       "      <th>440</th>\n",
       "      <td>6.422</td>\n",
       "      <td>i</td>\n",
       "    </tr>\n",
       "    <tr>\n",
       "      <th>587</th>\n",
       "      <td>6.423</td>\n",
       "      <td>u</td>\n",
       "    </tr>\n",
       "  </tbody>\n",
       "</table>\n",
       "<p>588 rows × 2 columns</p>\n",
       "</div>"
      ],
      "text/plain": [
       "       HJD filter\n",
       "0    0.000      g\n",
       "147  0.001      r\n",
       "294  0.002      i\n",
       "441  0.003      u\n",
       "1    0.021      g\n",
       "..     ...    ...\n",
       "586  6.402      u\n",
       "146  6.420      g\n",
       "293  6.421      r\n",
       "440  6.422      i\n",
       "587  6.423      u\n",
       "\n",
       "[588 rows x 2 columns]"
      ]
     },
     "execution_count": 3,
     "metadata": {},
     "output_type": "execute_result"
    }
   ],
   "source": [
    "car.sort_values('HJD')"
   ]
  },
  {
   "cell_type": "code",
   "execution_count": null,
   "id": "assumed-fitting",
   "metadata": {},
   "outputs": [],
   "source": []
  },
  {
   "cell_type": "code",
   "execution_count": 4,
   "id": "renewable-hunger",
   "metadata": {},
   "outputs": [
    {
     "name": "stderr",
     "output_type": "stream",
     "text": [
      "/Users/yoachim/lsst/conda/miniconda3-py38_4.9.2/envs/lsst-scipipe-0.4.1/lib/python3.8/site-packages/erfa/core.py:154: ErfaWarning: ERFA function \"utctai\" yielded 2300 of \"dubious year (Note 3)\"\n",
      "  warnings.warn('ERFA function \"{}\" yielded {}'.format(func_name, wmsg),\n",
      "/Users/yoachim/lsst/conda/miniconda3-py38_4.9.2/envs/lsst-scipipe-0.4.1/lib/python3.8/site-packages/erfa/core.py:154: ErfaWarning: ERFA function \"utctai\" yielded 23000 of \"dubious year (Note 3)\"\n",
      "  warnings.warn('ERFA function \"{}\" yielded {}'.format(func_name, wmsg),\n",
      "WARNING: Tried to get polar motions for times after IERS data is valid. Defaulting to polar motion from the 50-yr mean for those. This may affect precision at the arcsec level [astropy.coordinates.builtin_frames.utils]\n",
      "/Users/yoachim/lsst/conda/miniconda3-py38_4.9.2/envs/lsst-scipipe-0.4.1/lib/python3.8/site-packages/erfa/core.py:154: ErfaWarning: ERFA function \"apio13\" yielded 23000 of \"dubious year (Note 2)\"\n",
      "  warnings.warn('ERFA function \"{}\" yielded {}'.format(func_name, wmsg),\n"
     ]
    },
    {
     "name": "stdout",
     "output_type": "stream",
     "text": [
      "[59992.03798772348, 59993.03717235476, 59994.03634883789, 59995.03551756684, 59996.0346789225, 59997.03383325506, 59998.03298097197, 60347.04577312805, 60348.04506823188, 60349.044350427575, 60350.04362015519, 60351.04287783196, 60352.04212389188, 60353.041358765215, 60731.03080681572, 60732.0299360645, 60733.02906059101, 60734.02818073612, 60735.02729685325, 60736.026409286074, 60737.025518379174, 61084.04094713647, 61085.04016599804, 61086.03937504534, 61087.03857469326, 61088.03776538372, 61089.03694753628, 61090.036121559795, 61439.04827445885, 61440.04762212513, 61441.046955060214, 61442.04627373023, 61443.04557859991, 61444.04487013258, 61445.04414878599, 61822.034851515666, 61823.0340069863, 61824.03315593768, 61825.03229877073, 61826.03143587429, 61827.03056854941, 61828.02969670808, 62177.043024341576, 62178.04227262642, 62179.041509832256, 62180.04073640052, 62181.03995276522, 62182.03915935382, 62183.03835657565, 62534.04873317061, 62535.048092107754, 62536.04743590718, 62537.046765011735, 62538.046079882886, 62539.045380986296, 62540.04466879275, 62915.03711327491, 62916.03628921276, 62917.03545752028, 62918.03461858956, 62919.0337727773, 62920.032920483965, 62921.032062082086, 63270.04501105705, 63271.04429272283, 63272.04356206162, 63273.042819500435, 63274.04206547048, 63275.041300386656, 63276.04052466573]\n"
     ]
    }
   ],
   "source": [
    "pick_times()"
   ]
  },
  {
   "cell_type": "code",
   "execution_count": null,
   "id": "perceived-attack",
   "metadata": {},
   "outputs": [],
   "source": []
  },
  {
   "cell_type": "code",
   "execution_count": null,
   "id": "demonstrated-professor",
   "metadata": {},
   "outputs": [],
   "source": []
  },
  {
   "cell_type": "code",
   "execution_count": null,
   "id": "banner-opportunity",
   "metadata": {},
   "outputs": [],
   "source": []
  }
 ],
 "metadata": {
  "kernelspec": {
   "display_name": "Python 3",
   "language": "python",
   "name": "python3"
  },
  "language_info": {
   "codemirror_mode": {
    "name": "ipython",
    "version": 3
   },
   "file_extension": ".py",
   "mimetype": "text/x-python",
   "name": "python",
   "nbconvert_exporter": "python",
   "pygments_lexer": "ipython3",
   "version": "3.8.8"
  }
 },
 "nbformat": 4,
 "nbformat_minor": 5
}
