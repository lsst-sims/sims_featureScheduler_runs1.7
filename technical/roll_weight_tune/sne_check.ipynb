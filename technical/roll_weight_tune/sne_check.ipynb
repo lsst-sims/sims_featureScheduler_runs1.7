{
 "cells": [
  {
   "cell_type": "code",
   "execution_count": 1,
   "metadata": {},
   "outputs": [],
   "source": [
    "import lsst.sims.maf.metricBundles as metricBundles\n",
    "import lsst.sims.maf.slicers as slicers\n",
    "import lsst.sims.maf.db as db\n",
    "import lsst.sims.maf.utils as utils\n",
    "import sqlite3\n",
    "import numpy as np\n",
    "from lsst.sims.maf.metrics.snNSNMetric import SNNSNMetric\n",
    "import healpy as hp"
   ]
  },
  {
   "cell_type": "code",
   "execution_count": 2,
   "metadata": {},
   "outputs": [],
   "source": [
    "files = ['baseline_nexp2_v1.7_10yrs.db',\n",
    "         'rolling_nm_scale0.75_nslice2_fpw0.6_unc_v1.7_10yrs.db',\n",
    "         'rolling_nm_scale0.75_nslice3_fpw0.6_unc_v1.7_10yrs.db']"
   ]
  },
  {
   "cell_type": "code",
   "execution_count": 3,
   "metadata": {},
   "outputs": [],
   "source": [
    "nside = 4\n"
   ]
  },
  {
   "cell_type": "code",
   "execution_count": null,
   "metadata": {},
   "outputs": [
    {
     "name": "stdout",
     "output_type": "stream",
     "text": [
      "Healpix slicer using NSIDE=4, approximate resolution 879.484521 arcminutes\n",
      "Loading  /Users/yoachim/git_repos/sims_maf_contrib/data/SNe_data/LC_-2.0_0.2_380.0_800.0_ebvofMW_0.0_vstack.hdf5 g 18174 699 26\n",
      "Loading  /Users/yoachim/git_repos/sims_maf_contrib/data/SNe_data/LC_-2.0_0.2_380.0_800.0_ebvofMW_0.0_vstack.hdf5 i 68502 699 98\n",
      "Loading  /Users/yoachim/git_repos/sims_maf_contrib/data/SNe_data/LC_-2.0_0.2_380.0_800.0_ebvofMW_0.0_vstack.hdf5 r 44037 699 63\n",
      "Loading  /Users/yoachim/git_repos/sims_maf_contrib/data/SNe_data/LC_-2.0_0.2_380.0_800.0_ebvofMW_0.0_vstack.hdf5 y 54522 699 78\n",
      "Loading  /Users/yoachim/git_repos/sims_maf_contrib/data/SNe_data/LC_-2.0_0.2_380.0_800.0_ebvofMW_0.0_vstack.hdf5 z 63609 699 91\n",
      "Loading  /Users/yoachim/git_repos/sims_maf_contrib/data/SNe_data/LC_0.0_0.0_380.0_800.0_ebvofMW_0.0_vstack.hdf5 g 18174 699 26\n",
      "Loading  /Users/yoachim/git_repos/sims_maf_contrib/data/SNe_data/LC_0.0_0.0_380.0_800.0_ebvofMW_0.0_vstack.hdf5 i 68502 699 98\n",
      "Loading  /Users/yoachim/git_repos/sims_maf_contrib/data/SNe_data/LC_0.0_0.0_380.0_800.0_ebvofMW_0.0_vstack.hdf5 r 44037 699 63\n",
      "Loading  /Users/yoachim/git_repos/sims_maf_contrib/data/SNe_data/LC_0.0_0.0_380.0_800.0_ebvofMW_0.0_vstack.hdf5 y 68502 699 98\n",
      "Loading  /Users/yoachim/git_repos/sims_maf_contrib/data/SNe_data/LC_0.0_0.0_380.0_800.0_ebvofMW_0.0_vstack.hdf5 z 77589 699 111\n",
      "Querying database SummaryAllProps with no constraint for columns ['night', 'visitTime', 'fieldRA', 'filter', 'fieldDec', 'fiveSigmaDepth', 'observationId', 'numExposures', 'visitExposureTime', 'observationStartMJD'].\n",
      "Found 2045493 visits\n",
      "Running:  ['baseline_nexp2_v1_7_10yrs_SNNSNMetric_HEAL']\n"
     ]
    }
   ],
   "source": [
    "all_results = []\n",
    "for filename in files:\n",
    "    opsimdb = db.OpsimDatabase(filename)\n",
    "    runName = filename.replace('.db', '')\n",
    "    slicer = slicers.HealpixSlicer(nside=nside)\n",
    "\n",
    "    metric = SNNSNMetric(verbose=False)  #, zlim_coeff=0.98)\n",
    "\n",
    "    bundleList = []\n",
    "\n",
    "    sql = ''\n",
    "    #sql = '(note = \"%s\")' %('DD:COSMOS')\n",
    "\n",
    "    bundleList.append(metricBundles.MetricBundle(metric, slicer, sql, runName=runName))\n",
    "\n",
    "    outDir = 'temp'\n",
    "    resultsDb = db.ResultsDb(outDir=outDir)\n",
    "    bundleDict = metricBundles.makeBundlesDictFromList(bundleList)\n",
    "    bgroup = metricBundles.MetricBundleGroup(bundleDict, opsimdb, outDir=outDir, resultsDb=resultsDb)\n",
    "    bgroup.runAll()\n",
    "    bgroup.plotAll(closefigs=False)\n",
    "    all_results.append(bgroup)"
   ]
  },
  {
   "cell_type": "code",
   "execution_count": null,
   "metadata": {},
   "outputs": [],
   "source": []
  }
 ],
 "metadata": {
  "kernelspec": {
   "display_name": "Python 3",
   "language": "python",
   "name": "python3"
  },
  "language_info": {
   "codemirror_mode": {
    "name": "ipython",
    "version": 3
   },
   "file_extension": ".py",
   "mimetype": "text/x-python",
   "name": "python",
   "nbconvert_exporter": "python",
   "pygments_lexer": "ipython3",
   "version": "3.7.8"
  }
 },
 "nbformat": 4,
 "nbformat_minor": 4
}
